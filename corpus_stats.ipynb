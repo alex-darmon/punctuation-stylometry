{
 "cells": [
  {
   "cell_type": "markdown",
   "metadata": {},
   "source": [
    "# Pickle Gutenberg Cache Data\n",
    "\n",
    "This Notebook shows how the Gutenberg cache data is treated and put into pickle format.\n",
    "Before proceeding, make sure to download the latest version of the cache using the following link:\n",
    "http://www.gutenberg.org/cache/epub/feeds/rdf-files.tar.zip\n",
    "Unzip the file and place it in the 'cache_data_directory'.\n",
    "Now you can start."
   ]
  },
  {
   "cell_type": "code",
   "execution_count": 9,
   "metadata": {},
   "outputs": [
    {
     "ename": "AttributeError",
     "evalue": "'Config' object has no attribute 'punctuation_vector'",
     "output_type": "error",
     "traceback": [
      "\u001b[0;31m---------------------------------------------------------------------------\u001b[0m",
      "\u001b[0;31mAttributeError\u001b[0m                            Traceback (most recent call last)",
      "\u001b[0;32m<ipython-input-9-b45c29c32b16>\u001b[0m in \u001b[0;36m<module>\u001b[0;34m\u001b[0m\n\u001b[1;32m      3\u001b[0m \u001b[0;32mfrom\u001b[0m \u001b[0mitertools\u001b[0m \u001b[0;32mimport\u001b[0m \u001b[0mproduct\u001b[0m\u001b[0;34m\u001b[0m\u001b[0;34m\u001b[0m\u001b[0m\n\u001b[1;32m      4\u001b[0m \u001b[0;32mfrom\u001b[0m \u001b[0mpunctuation\u001b[0m\u001b[0;34m.\u001b[0m\u001b[0mconfig\u001b[0m \u001b[0;32mimport\u001b[0m \u001b[0moptions\u001b[0m\u001b[0;34m\u001b[0m\u001b[0;34m\u001b[0m\u001b[0m\n\u001b[0;32m----> 5\u001b[0;31m from punctuation.visualisation.visualisation import (\n\u001b[0m\u001b[1;32m      6\u001b[0m \u001b[0mplot_hist_punc\u001b[0m\u001b[0;34m,\u001b[0m \u001b[0mplot_trans_mat\u001b[0m\u001b[0;34m,\u001b[0m \u001b[0mplot_hist_words\u001b[0m\u001b[0;34m,\u001b[0m\u001b[0mplot_list_class\u001b[0m\u001b[0;34m,\u001b[0m\u001b[0;34m\u001b[0m\u001b[0;34m\u001b[0m\u001b[0m\n\u001b[1;32m      7\u001b[0m \u001b[0mget_overall_kdeplot\u001b[0m\u001b[0;34m,\u001b[0m \u001b[0mplot_scatter_freqs\u001b[0m\u001b[0;34m,\u001b[0m\u001b[0;34m\u001b[0m\u001b[0;34m\u001b[0m\u001b[0m\n",
      "\u001b[0;32m~/Documents/Work/Punctuation/punctuation/punctuation/visualisation/visualisation.py\u001b[0m in \u001b[0;36m<module>\u001b[0;34m\u001b[0m\n\u001b[1;32m     21\u001b[0m \u001b[0;34m\u001b[0m\u001b[0m\n\u001b[1;32m     22\u001b[0m def get_overall_kdeplot(df,subfile,\n\u001b[0;32m---> 23\u001b[0;31m                         \u001b[0mpunctuation_vector\u001b[0m\u001b[0;34m=\u001b[0m\u001b[0moptions\u001b[0m\u001b[0;34m.\u001b[0m\u001b[0mpunctuation_vector\u001b[0m\u001b[0;34m,\u001b[0m\u001b[0;34m\u001b[0m\u001b[0;34m\u001b[0m\u001b[0m\n\u001b[0m\u001b[1;32m     24\u001b[0m                         \u001b[0mfreq_pun_col\u001b[0m\u001b[0;34m=\u001b[0m\u001b[0moptions\u001b[0m\u001b[0;34m.\u001b[0m\u001b[0mfreq_pun_col\u001b[0m\u001b[0;34m,\u001b[0m\u001b[0;34m\u001b[0m\u001b[0;34m\u001b[0m\u001b[0m\n\u001b[1;32m     25\u001b[0m                         with_pairs=False):\n",
      "\u001b[0;31mAttributeError\u001b[0m: 'Config' object has no attribute 'punctuation_vector'"
     ]
    }
   ],
   "source": [
    "\n",
    "import pandas as pd\n",
    "import numpy as np\n",
    "from itertools import product\n",
    "from punctuation.config import options\n",
    "from punctuation.visualisation.visualisation import (\n",
    "plot_hist_punc, plot_trans_mat, plot_hist_words,plot_list_class,\n",
    "get_overall_kdeplot, plot_scatter_freqs,\n",
    ")"
   ]
  },
  {
   "cell_type": "code",
   "execution_count": 5,
   "metadata": {},
   "outputs": [],
   "source": [
    "from punctuation.visualisation import heatmap_functions"
   ]
  },
  {
   "cell_type": "code",
   "execution_count": 13,
   "metadata": {},
   "outputs": [],
   "source": [
    "from punctuation.config import config, _DEFAULTS, Config"
   ]
  },
  {
   "cell_type": "code",
   "execution_count": 15,
   "metadata": {},
   "outputs": [
    {
     "data": {
      "text/plain": [
       "{'config': 'conf/punctuation.ini',\n",
       " 'log_file': 'log/message.log',\n",
       " 'log_level': 'INFO',\n",
       " 'empirical_nb_words': 40,\n",
       " 'empirical_nb_sentences': 200,\n",
       " 'punctuation_vector': ['!', '\"', '(', ')', ',', '.', ':', ';', '?', '^'],\n",
       " 'punctuation_end': ['!', '?', '.', '^'],\n",
       " 'alpha': 'abcdefghijklmnopqrstuvwxyzABCDEFGHIJKLMNOPQRSTUVWXYZ1234567890',\n",
       " 'exception_strings': ['Mr', 'Mrs', 'Dr', 'Prof', 'St', 'etc'],\n",
       " 'punctuation_quotes': [\"'\", '“', '”']}"
      ]
     },
     "execution_count": 15,
     "metadata": {},
     "output_type": "execute_result"
    }
   ],
   "source": [
    "_DEFAULTS"
   ]
  },
  {
   "cell_type": "code",
   "execution_count": 17,
   "metadata": {},
   "outputs": [],
   "source": [
    "config = Config(**_DEFAULTS)"
   ]
  },
  {
   "cell_type": "code",
   "execution_count": 20,
   "metadata": {},
   "outputs": [],
   "source": [
    "import configargparse\n",
    "\n",
    "p = configargparse.ArgParser(\n",
    "            auto_env_var_prefix=\"PUNCTUATION_\",\n",
    "            ignore_unknown_config_file_keys=True\n",
    "        )"
   ]
  },
  {
   "cell_type": "code",
   "execution_count": 35,
   "metadata": {},
   "outputs": [
    {
     "ename": "AttributeError",
     "evalue": "'dict' object has no attribute 'punctuation_vector'",
     "output_type": "error",
     "traceback": [
      "\u001b[0;31m---------------------------------------------------------------------------\u001b[0m",
      "\u001b[0;31mAttributeError\u001b[0m                            Traceback (most recent call last)",
      "\u001b[0;32m<ipython-input-35-450c1795ac3e>\u001b[0m in \u001b[0;36m<module>\u001b[0;34m\u001b[0m\n\u001b[0;32m----> 1\u001b[0;31m \u001b[0mgetattr\u001b[0m\u001b[0;34m(\u001b[0m\u001b[0m_DEFAULTS\u001b[0m\u001b[0;34m,\u001b[0m\u001b[0;34m\"punctuation_vector\"\u001b[0m\u001b[0;34m)\u001b[0m\u001b[0;34m\u001b[0m\u001b[0;34m\u001b[0m\u001b[0m\n\u001b[0m",
      "\u001b[0;31mAttributeError\u001b[0m: 'dict' object has no attribute 'punctuation_vector'"
     ]
    }
   ],
   "source": [
    "getattr(_DEFAULTS,\"punctuation_vector\")"
   ]
  },
  {
   "cell_type": "code",
   "execution_count": 32,
   "metadata": {},
   "outputs": [
    {
     "data": {
      "text/plain": [
       "dict_keys(['config', 'log_file', 'log_level', 'empirical_nb_words', 'empirical_nb_sentences', 'punctuation_vector', 'punctuation_end', 'alpha', 'exception_strings', 'punctuation_quotes'])"
      ]
     },
     "execution_count": 32,
     "metadata": {},
     "output_type": "execute_result"
    }
   ],
   "source": [
    "get_attr(_DEFAULTS.keys()"
   ]
  },
  {
   "cell_type": "code",
   "execution_count": 5,
   "metadata": {},
   "outputs": [],
   "source": [
    "# BASEDIR = os.path.join(os.path.dirname('__file__'))\n",
    "# logger = create_logger()\n",
    "\n",
    "cache_data_directory = 'data/cache/epub'\n",
    "\n",
    "list_epubs = os.listdir(cache_data_directory)\n",
    "for x in ['DELETE', '.DS_Store', 'DELETE-52276', 'DELETE-55495']: ## List of unwanted add ups.\n",
    "    if x in list_epubs:\n",
    "        list_epubs.remove(x)"
   ]
  },
  {
   "cell_type": "code",
   "execution_count": 6,
   "metadata": {},
   "outputs": [
    {
     "ename": "NameError",
     "evalue": "name 'cpu_count' is not defined",
     "output_type": "error",
     "traceback": [
      "\u001b[0;31m---------------------------------------------------------------------------\u001b[0m",
      "\u001b[0;31mNameError\u001b[0m                                 Traceback (most recent call last)",
      "\u001b[0;32m<ipython-input-6-8a90a23eb5ff>\u001b[0m in \u001b[0;36m<module>\u001b[0;34m\u001b[0m\n\u001b[0;32m----> 1\u001b[0;31m \u001b[0mtotal_threads\u001b[0m \u001b[0;34m=\u001b[0m \u001b[0mcpu_count\u001b[0m\u001b[0;34m(\u001b[0m\u001b[0;34m)\u001b[0m\u001b[0;34m\u001b[0m\u001b[0;34m\u001b[0m\u001b[0m\n\u001b[0m\u001b[1;32m      2\u001b[0m \u001b[0;34m\u001b[0m\u001b[0m\n\u001b[1;32m      3\u001b[0m \u001b[0mchunk_size\u001b[0m \u001b[0;34m=\u001b[0m \u001b[0mint\u001b[0m\u001b[0;34m(\u001b[0m\u001b[0mlen\u001b[0m\u001b[0;34m(\u001b[0m\u001b[0mlist_epubs\u001b[0m\u001b[0;34m)\u001b[0m \u001b[0;34m/\u001b[0m \u001b[0mtotal_threads\u001b[0m\u001b[0;34m)\u001b[0m \u001b[0;34m+\u001b[0m \u001b[0;36m1\u001b[0m\u001b[0;34m\u001b[0m\u001b[0;34m\u001b[0m\u001b[0m\n\u001b[1;32m      4\u001b[0m \u001b[0msets_to_be_computed\u001b[0m \u001b[0;34m=\u001b[0m \u001b[0mchunks\u001b[0m\u001b[0;34m(\u001b[0m\u001b[0mlist_epubs\u001b[0m\u001b[0;34m,\u001b[0m \u001b[0mchunk_size\u001b[0m\u001b[0;34m)\u001b[0m\u001b[0;34m\u001b[0m\u001b[0;34m\u001b[0m\u001b[0m\n\u001b[1;32m      5\u001b[0m \u001b[0mpool\u001b[0m \u001b[0;34m=\u001b[0m \u001b[0mPool\u001b[0m\u001b[0;34m(\u001b[0m\u001b[0mtotal_threads\u001b[0m\u001b[0;34m)\u001b[0m\u001b[0;34m\u001b[0m\u001b[0;34m\u001b[0m\u001b[0m\n",
      "\u001b[0;31mNameError\u001b[0m: name 'cpu_count' is not defined"
     ]
    }
   ],
   "source": [
    "total_threads = cpu_count()\n",
    "\n",
    "chunk_size = int(len(list_epubs) / total_threads) + 1\n",
    "sets_to_be_computed = chunks(list_epubs, chunk_size)\n",
    "pool = Pool(total_threads)\n",
    "results = pool.map(lambda z: get_cache_info(z, verbose=False,\n",
    "                                            cache_data_directory=cache_data_directory), sets_to_be_computed)\n",
    "\n",
    "df_res = pd.DataFrame(None)\n",
    "for df in results:\n",
    "    df_res = pd.concat([df_res, df])\n",
    "    \n",
    "df_res.to_pickle('data/pickle/cache.p')"
   ]
  }
 ],
 "metadata": {
  "kernelspec": {
   "display_name": "Python 3",
   "language": "python",
   "name": "python3"
  },
  "language_info": {
   "codemirror_mode": {
    "name": "ipython",
    "version": 3
   },
   "file_extension": ".py",
   "mimetype": "text/x-python",
   "name": "python",
   "nbconvert_exporter": "python",
   "pygments_lexer": "ipython3",
   "version": "3.7.3"
  }
 },
 "nbformat": 4,
 "nbformat_minor": 2
}
